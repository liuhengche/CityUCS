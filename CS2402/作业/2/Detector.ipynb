{
 "cells": [
  {
   "cell_type": "code",
   "execution_count": 2,
   "metadata": {},
   "outputs": [
    {
     "name": "stdout",
     "output_type": "stream",
     "text": [
      "dear research student, we have just uploaded the competition questions for cs2402. please sign up  and contact me before this friday (29, march, 2024) if you have any questions. the award for the winner  is $10,000,000! also, you can donate your award to the whole class.\n",
      "p_spam: 0.000163, p_no_spam: 0.005753, posterior_odds_spam: 0.000130, posterior_odds_no_spam: 0.001151, p_isSpam: 0.101751\n"
     ]
    }
   ],
   "source": [
    "# Input the email with your keyboard #\n",
    "email = input('Please enter the test Email: ')     # gets the test email\n",
    "email = email.lower()                              # convert string to lowercase\n",
    "print(email)\n",
    "\n",
    "# Input the spam detection keyword #\n",
    "word1 = input('Please enter the first key word: ') # gets the first keyword\n",
    "word1 = word1.lower()                              # convert the first key word to lowercase\n",
    "\n",
    "word2 = input('Please enter the second key word: ') # gets the second keyword\n",
    "word2 = word2.lower()                              # convert the second keyword to lowercase\n",
    "\n",
    "word3 = input('Please enter the third key word: ') # gets the third keyword\n",
    "word3 = word3.lower()                              # convert the third keyword to lowercase\n",
    "\n",
    "word4 = input('Please enter the fourth key word: ') # gets the fourth keyword\n",
    "word4 = word4.lower()                              # convert the fourth keyword to lowercase\n",
    "\n",
    "word5 = input('Please enter the fifth key word: ') # gets the fifth keyword\n",
    "word5 = word5.lower()                              # convert the fifth keyword to lowercase\n",
    "\n",
    "# Detect whether the key word occured in your email #\n",
    "n_word1 = email.count(word1)  # count the number of the first keyword in the email\n",
    "n_word2 = email.count(word2)  # count the number of the second keyword in the email\n",
    "n_word3 = email.count(word3)  # count the number of the third keyword in the email\n",
    "n_word4 = email.count(word4)  # count the number of the fourth keyword in the email\n",
    "n_word5 = email.count(word5)  # count the number of the fifth keyword in the email\n",
    "\n",
    "# The prior odds of spam is 80% #\n",
    "p_spam = 1.0                                         # initialize the likelihood ratio of the spam email\n",
    "p_no_spam = 1.0                                      # initialize the likelihood ratio of the no spam email\n",
    "prior_odds_spam = 0.8                       # prior odds of spam\n",
    "\n",
    "# Calculate the Likelihood ratio #\n",
    "if n_word1 != 0:                                     # the first keyword occurred in the email\n",
    "    p_spam = p_spam * 0.88\n",
    "    p_no_spam = p_no_spam * 0.47\n",
    "if n_word2 != 0:                                     # the second keyword occurred in the email\n",
    "    p_spam = p_spam * 0.66\n",
    "    p_no_spam = p_no_spam * 0.10\n",
    "if n_word3 != 0:                                     # the third keyword occurred in the email\n",
    "    p_spam = p_spam * 0.11\n",
    "    p_no_spam = p_no_spam * 0.60\n",
    "if n_word4 != 0:                                     # the fourth keyword occurred in the email\n",
    "    p_spam = p_spam * 0.51\n",
    "    p_no_spam = p_no_spam * 0.51\n",
    "if n_word5 != 0:                                     # the fifth keyword occurred in the email\n",
    "    p_spam = p_spam * 0.005\n",
    "    p_no_spam = p_no_spam * 0.40\n",
    "\n",
    "# Calculate the Posterior odds #\n",
    "posterior_odds_spam = prior_odds_spam * p_spam                   # posterior odds of spam\n",
    "posterior_odds_no_spam = (1 - prior_odds_spam) * p_no_spam        # posterior odds of no spam\n",
    "\n",
    "p_isSpam = posterior_odds_spam / (posterior_odds_spam + posterior_odds_no_spam)                              # probability of spam P(spam | email)\n",
    "\n",
    "print(\"p_spam: %.6f, p_no_spam: %.6f, posterior_odds_spam: %.6f, posterior_odds_no_spam: %.6f, p_isSpam: %.6f\"%(p_spam, p_no_spam, posterior_odds_spam, posterior_odds_no_spam, p_isSpam))"
   ]
  },
  {
   "cell_type": "code",
   "execution_count": 1,
   "metadata": {},
   "outputs": [
    {
     "name": "stdout",
     "output_type": "stream",
     "text": [
      "4\n"
     ]
    }
   ],
   "source": [
    "def foo(x):\n",
    "    return x + 1\n",
    "print(foo(3)) "
   ]
  },
  {
   "cell_type": "code",
   "execution_count": 1,
   "metadata": {},
   "outputs": [
    {
     "name": "stdout",
     "output_type": "stream",
     "text": [
      "i have decided to donate what i have to you. i was diagnosed with cancer of the lungs few years ago. i have been inspired by god to donate my inheritance to you for the good work of god and charity purpose. i am doing this because my family are unbelievers and i will not allow them inherit this money for their own selfishness. i decided to bequeath the sum of $10,000,000.00 to you. if you are much more interested, contact thomas with this specified email: thmasbfd@gmail.com).\n",
      "p_spam: 0.296208, p_no_spam: 0.023970, posterior_odds_spam: 0.236966, posterior_odds_no_spam: 0.004794, p_isSpam: 0.980170\n"
     ]
    }
   ],
   "source": [
    "# Input the email with your keyboard #\n",
    "email = input('Please enter the test Email: ')     # gets the test email\n",
    "email = email.lower()                              # convert string to lowercase\n",
    "print(email)\n",
    "\n",
    "# Input the spam detection keyword #\n",
    "word1 = input('Please enter the first key word: ') # gets the first keyword\n",
    "word1 = word1.lower()                              # convert the first key word to lowercase\n",
    "\n",
    "word2 = input('Please enter the second key word: ') # gets the second keyword\n",
    "word2 = word2.lower()                              # convert the second keyword to lowercase\n",
    "\n",
    "word3 = input('Please enter the third key word: ') # gets the third keyword\n",
    "word3 = word3.lower()                              # convert the third keyword to lowercase\n",
    "\n",
    "word4 = input('Please enter the fourth key word: ') # gets the fourth keyword\n",
    "word4 = word4.lower()                              # convert the fourth keyword to lowercase\n",
    "\n",
    "word5 = input('Please enter the fifth key word: ') # gets the fifth keyword\n",
    "word5 = word5.lower()                              # convert the fifth keyword to lowercase\n",
    "\n",
    "# Detect whether the key word occured in your email #\n",
    "n_word1 = email.count(word1)  # count the number of the first keyword in the email\n",
    "n_word2 = email.count(word2)  # count the number of the second keyword in the email\n",
    "n_word3 = email.count(word3)  # count the number of the third keyword in the email\n",
    "n_word4 = email.count(word4)  # count the number of the fourth keyword in the email\n",
    "n_word5 = email.count(word5)  # count the number of the fifth keyword in the email\n",
    "\n",
    "# The prior odds of spam is 80% #\n",
    "p_spam = 1.0                                         # initialize the likelihood ratio of the spam email\n",
    "p_no_spam = 1.0                                      # initialize the likelihood ratio of the no spam email\n",
    "prior_odds_spam = 0.8                       # prior odds of spam\n",
    "\n",
    "# Calculate the Likelihood ratio #\n",
    "if n_word1 != 0:                                     # the first keyword occurred in the email\n",
    "    p_spam = p_spam * 0.88\n",
    "    p_no_spam = p_no_spam * 0.47\n",
    "if n_word2 != 0:                                     # the second keyword occurred in the email\n",
    "    p_spam = p_spam * 0.66\n",
    "    p_no_spam = p_no_spam * 0.10\n",
    "if n_word3 != 0:                                     # the third keyword occurred in the email\n",
    "    p_spam = p_spam * 0.11\n",
    "    p_no_spam = p_no_spam * 0.60\n",
    "if n_word4 != 0:                                     # the fourth keyword occurred in the email\n",
    "    p_spam = p_spam * 0.51\n",
    "    p_no_spam = p_no_spam * 0.51\n",
    "if n_word5 != 0:                                     # the fifth keyword occurred in the email\n",
    "    p_spam = p_spam * 0.005\n",
    "    p_no_spam = p_no_spam * 0.40\n",
    "\n",
    "# Calculate the Posterior odds #\n",
    "posterior_odds_spam = prior_odds_spam * p_spam                   # posterior odds of spam\n",
    "posterior_odds_no_spam = (1 - prior_odds_spam) * p_no_spam        # posterior odds of no spam\n",
    "\n",
    "p_isSpam = posterior_odds_spam / (posterior_odds_spam + posterior_odds_no_spam)                              # probability of spam P(spam | email)\n",
    "\n",
    "print(\"p_spam: %.6f, p_no_spam: %.6f, posterior_odds_spam: %.6f, posterior_odds_no_spam: %.6f, p_isSpam: %.6f\"%(p_spam, p_no_spam, posterior_odds_spam, posterior_odds_no_spam, p_isSpam))"
   ]
  },
  {
   "cell_type": "code",
   "execution_count": null,
   "metadata": {},
   "outputs": [],
   "source": []
  }
 ],
 "metadata": {
  "kernelspec": {
   "display_name": "Python 3",
   "language": "python",
   "name": "python3"
  },
  "language_info": {
   "codemirror_mode": {
    "name": "ipython",
    "version": 3
   },
   "file_extension": ".py",
   "mimetype": "text/x-python",
   "name": "python",
   "nbconvert_exporter": "python",
   "pygments_lexer": "ipython3",
   "version": "3.12.1"
  }
 },
 "nbformat": 4,
 "nbformat_minor": 2
}
